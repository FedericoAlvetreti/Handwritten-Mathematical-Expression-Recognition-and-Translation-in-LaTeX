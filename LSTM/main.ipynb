{
 "cells": [
  {
   "cell_type": "code",
   "execution_count": 1,
   "metadata": {
    "executionInfo": {
     "elapsed": 4668,
     "status": "ok",
     "timestamp": 1703754453443,
     "user": {
      "displayName": "Aurora Bassani",
      "userId": "06626732176420281481"
     },
     "user_tz": -60
    },
    "id": "FK12sCnZZV7x"
   },
   "outputs": [],
   "source": [
    "# Libraries\n",
    "import pandas as pd\n",
    "import json\n",
    "import numpy as np\n",
    "import matplotlib.pyplot as plt\n",
    "import tensorflow as tf\n",
    "from keras.models import Model, load_model\n",
    "from keras.layers import Input, Embedding, LSTM, Dense, Attention, Concatenate, Dropout\n",
    "from keras.optimizers import Adam\n",
    "from keras.callbacks import ModelCheckpoint\n",
    "from keras.metrics import Metric\n",
    "from itertools import product"
   ]
  },
  {
   "cell_type": "code",
   "execution_count": 2,
   "metadata": {
    "colab": {
     "base_uri": "https://localhost:8080/"
    },
    "executionInfo": {
     "elapsed": 2857,
     "status": "ok",
     "timestamp": 1703754458360,
     "user": {
      "displayName": "Aurora Bassani",
      "userId": "06626732176420281481"
     },
     "user_tz": -60
    },
    "id": "lHLx_o-YZa0X",
    "outputId": "491a08b2-51a8-4a2e-9c04-684157a7de68"
   },
   "outputs": [
    {
     "output_type": "stream",
     "name": "stdout",
     "text": [
      "Mounted at /content/drive\n",
      "/content/drive/.shortcut-targets-by-id/1EYcDfRZdNbAHFL8-gaMUF8Pj27Tm8qYu/LSTM\n"
     ]
    }
   ],
   "source": [
    "# Connect Drive\n",
    "from google.colab import drive\n",
    "drive.mount(r'/content/drive',force_remount = True)\n",
    "%cd /content/drive/MyDrive/LSTM"
   ]
  },
  {
   "cell_type": "markdown",
   "metadata": {
    "id": "dF62AK1KyHlz"
   },
   "source": [
    "# Data loading"
   ]
  },
  {
   "cell_type": "markdown",
   "metadata": {
    "id": "IKtZuUVaH2y-"
   },
   "source": [
    "First, let's download the clean datasets that we will use as train, validation, and test sets for the LSTM."
   ]
  },
  {
   "cell_type": "code",
   "execution_count": 3,
   "metadata": {
    "executionInfo": {
     "elapsed": 8512,
     "status": "ok",
     "timestamp": 1703754479047,
     "user": {
      "displayName": "Aurora Bassani",
      "userId": "06626732176420281481"
     },
     "user_tz": -60
    },
    "id": "XGLczL4sZa51"
   },
   "outputs": [],
   "source": [
    "# Read train dataset\n",
    "with open(file = '/content/drive/MyDrive/LSTM/data/lstm_train.json') as f:\n",
    "    train_tuple = json.load(f)\n",
    "\n",
    "# Read validation dataset\n",
    "with open(file = '/content/drive/MyDrive/LSTM/data/lstm_val.json') as f:\n",
    "    val_tuple = json.load(f)\n",
    "\n",
    "# Read test dataset\n",
    "with open(file = '/content/drive/MyDrive/LSTM/data/lstm_test.json') as f:\n",
    "    test_tuple = json.load(f)\n",
    "\n",
    "# Read char map dictionary\n",
    "with open(file = '/content/drive/MyDrive/LSTM/data/lstm_char_map.json') as f:\n",
    "    lstm_char_map = json.load(f)"
   ]
  },
  {
   "cell_type": "code",
   "execution_count": 9,
   "metadata": {
    "executionInfo": {
     "elapsed": 622,
     "status": "ok",
     "timestamp": 1703754639876,
     "user": {
      "displayName": "Aurora Bassani",
      "userId": "06626732176420281481"
     },
     "user_tz": -60
    },
    "id": "3jRWuJoPzOwp"
   },
   "outputs": [],
   "source": [
    "# Divide into symbols, features and targets\n",
    "train_symbols, train_features, train_target = map(np.array, train_tuple)\n",
    "val_symbols, val_features, val_target = map(np.array, val_tuple)\n",
    "test_symbols, test_features, test_target = map(np.array, test_tuple)"
   ]
  },
  {
   "cell_type": "markdown",
   "metadata": {
    "id": "5ThDvcW5CY2w"
   },
   "source": [
    "# LSTM model\n"
   ]
  },
  {
   "cell_type": "markdown",
   "metadata": {
    "id": "VeKqHZVTI4DM"
   },
   "source": [
    "The next cell contains the function *LSTM_model* that, given as input the hyperparameters embedding dimension, feature embedding dimension, hidden units and dropout, defines the LSTM model"
   ]
  },
  {
   "cell_type": "code",
   "execution_count": null,
   "metadata": {
    "id": "rsqT7miI5mDN"
   },
   "outputs": [],
   "source": [
    "def LSTM_model(embedding_dim, feature_embedding_dim, hidden_units, dropout_rate=0.25, vocab_size=60):\n",
    "  '''\n",
    "  Given LSTM hyperparameters define the LSTM model\n",
    "  '''\n",
    "  # Input symbol and features\n",
    "  input_symbol = Input(shape=(None,))\n",
    "  input_features = Input(shape=(None, 4))\n",
    "\n",
    "  # Embed symbols\n",
    "  embedded_symbol = Embedding(vocab_size, embedding_dim)(input_symbol)\n",
    "\n",
    "  # Embed features\n",
    "  embedded_features = Dense(units=feature_embedding_dim)(input_features)\n",
    "\n",
    "  # Concatenate embedded symbol and features\n",
    "  merged_input = Concatenate(axis=-1)([embedded_symbol, embedded_features])\n",
    "\n",
    "  # Encoder\n",
    "  encoder_lstm = LSTM(hidden_units, return_sequences=True, return_state=True)\n",
    "  encoder_outputs, state_h, state_c = encoder_lstm(merged_input)\n",
    "  encoder_states = [state_h, state_c]\n",
    "\n",
    "  # Add dropout to encoder LSTM\n",
    "  encoder_outputs = Dropout(dropout_rate)(encoder_outputs)\n",
    "\n",
    "  # Decoder\n",
    "  decoder_lstm = LSTM(hidden_units, return_sequences=True, return_state=True)\n",
    "  decoder_outputs, _, _ = decoder_lstm(embedded_symbol, initial_state = encoder_states)\n",
    "\n",
    "  # Add dropout to decoder LSTM\n",
    "  decoder_outputs = Dropout(dropout_rate)(decoder_outputs)\n",
    "\n",
    "  # Attention layer\n",
    "  attention_layer = Attention(use_scale=True)\n",
    "  context_vector = attention_layer([decoder_outputs, encoder_outputs])\n",
    "\n",
    "  # Concatenate\n",
    "  merged_output = Concatenate(axis=-1)([decoder_outputs, context_vector])\n",
    "\n",
    "  # Output\n",
    "  output_seq = Dense(vocab_size, activation=\"softmax\")(merged_output)\n",
    "\n",
    "  return Model(inputs = [input_symbol, input_features], outputs = output_seq)"
   ]
  },
  {
   "cell_type": "markdown",
   "metadata": {
    "id": "liGWhe-yJpwH"
   },
   "source": [
    "In the next cell, we define our customized accuracy, which will be used during the training phase. Specifically, it is the *sequence accuracy* or *overall accuracy*, computed as the number of entirely correctly translated sequences divided by the total number of sequence samples.\n"
   ]
  },
  {
   "cell_type": "code",
   "execution_count": 4,
   "metadata": {
    "executionInfo": {
     "elapsed": 3,
     "status": "ok",
     "timestamp": 1703754479852,
     "user": {
      "displayName": "Aurora Bassani",
      "userId": "06626732176420281481"
     },
     "user_tz": -60
    },
    "id": "EYklYuDpRCl2"
   },
   "outputs": [],
   "source": [
    "# Here is defined our sequence accuracy metric that we'll use during the training phase\n",
    "@tf.keras.utils.register_keras_serializable()\n",
    "class SeqAccuracy(Metric):\n",
    "    def __init__(self, name='seq_accuracy', **kwargs):\n",
    "        super(SeqAccuracy, self).__init__(name=name, **kwargs)\n",
    "        self.total = self.add_weight(name='total', initializer='zeros')\n",
    "        self.count = self.add_weight(name='count', initializer='zeros')\n",
    "\n",
    "    @tf.function\n",
    "    def update_state(self, y_true, y_pred, sample_weight=None):\n",
    "        y_pred = tf.cast(tf.argmax(y_pred, axis=-1), dtype=tf.float32)\n",
    "        N = tf.shape(y_true)[0]\n",
    "        k = 0\n",
    "        for i in range(N):\n",
    "            if tf.reduce_all(tf.math.equal(y_true[i, :], y_pred[i, :])):\n",
    "                k += 1\n",
    "\n",
    "        self.total.assign_add(tf.cast(k, tf.float32))\n",
    "        self.count.assign_add(tf.cast(N, tf.float32))\n",
    "\n",
    "    def result(self):\n",
    "        return tf.cond(\n",
    "            tf.math.not_equal(self.count, 0),\n",
    "            lambda: self.total / self.count,\n",
    "            lambda: tf.constant(0.0, dtype=tf.float32)\n",
    "        )\n",
    "\n",
    "    def reset_state(self):\n",
    "        self.total.assign(0)\n",
    "        self.count.assign(0)"
   ]
  },
  {
   "cell_type": "markdown",
   "metadata": {
    "id": "LgX_Bywn7-E5"
   },
   "source": [
    "# Grid Search"
   ]
  },
  {
   "cell_type": "markdown",
   "metadata": {
    "id": "4tauXhT3KX2t"
   },
   "source": [
    "In this section, we will conduct a grid search to identify the optimal combination of hyperparameters based on validation loss. Specifically, we will experiment with various values for the embedding dimension, including the feature embedding dimension, and the dropout rate.  \n",
    "\n",
    "The following cell contains two functions that will be useful for loading and saving the model's history."
   ]
  },
  {
   "cell_type": "code",
   "execution_count": 5,
   "metadata": {
    "executionInfo": {
     "elapsed": 211,
     "status": "ok",
     "timestamp": 1703754482229,
     "user": {
      "displayName": "Aurora Bassani",
      "userId": "06626732176420281481"
     },
     "user_tz": -60
    },
    "id": "j42zCs8HkFJr"
   },
   "outputs": [],
   "source": [
    "def save_history(path, val_loss, train_loss, val_acc, train_acc):\n",
    "  '''\n",
    "  Save history (validation/train loss and validation/train accuracy) at the specified path.\n",
    "  '''\n",
    "  with open(path + '_loss_val.json', 'w') as json_file:\n",
    "    json.dump(val_loss, json_file)\n",
    "  with open(path + \"_loss_train.json\", 'w') as json_file:\n",
    "    json.dump(train_loss, json_file)\n",
    "  with open(path + \"_acc_val.json\", 'w') as json_file:\n",
    "    json.dump(val_acc, json_file)\n",
    "  with open(path + \"_acc_train.json\", 'w') as json_file:\n",
    "    json.dump(train_acc, json_file)\n",
    "  return\n",
    "\n",
    "\n",
    "\n",
    "def read_history(path):\n",
    "  '''\n",
    "  Read history (validation/train loss and validation/train accuracy) from the specified path.\n",
    "  '''\n",
    "  with open(path + '_loss_val.json', 'r') as json_file:\n",
    "    val_loss = json.load(json_file)\n",
    "  with open(path + \"_loss_train.json\", 'r') as json_file:\n",
    "    train_loss = json.load(json_file)\n",
    "  with open(path + \"_acc_val.json\", 'r') as json_file:\n",
    "    val_acc = json.load(json_file)\n",
    "  with open(path + \"_acc_train.json\", 'r') as json_file:\n",
    "    train_acc = json.load(json_file)\n",
    "  return val_loss, train_loss, val_acc, train_acc"
   ]
  },
  {
   "cell_type": "markdown",
   "metadata": {
    "id": "CEUhhnl5RonX"
   },
   "source": [
    "The next cell contains the function *grid_search* that as the name suggests computes a grid search over the hyperparameters given in input.\n",
    "\n",
    "Every time we train a model with a fixed combination, we also save the model at its best epoch and compare its corresponding validation loss to the *best_validation_loss*, updating it if it is smaller."
   ]
  },
  {
   "cell_type": "code",
   "execution_count": null,
   "metadata": {
    "id": "jqsJt8VaWjB3"
   },
   "outputs": [],
   "source": [
    "def grid_search(parameters, epochs = 10):\n",
    "  '''\n",
    "  It computes grid search with all possible combinations of input parameters.\n",
    "  '''\n",
    "  # Extract train hyperparameters\n",
    "  lrs = parameters['learning_rate']\n",
    "  dropouts = parameters[\"dropout_rate\"]\n",
    "\n",
    "  # Extract model hyperparameters\n",
    "  embedding_dims = parameters[\"embedding_dim\"]\n",
    "  hidden_units = parameters[\"hidden_units\"]\n",
    "\n",
    "  # Extract all possible combination of hyperparameters\n",
    "  combinations = list(product(embedding_dims, hidden_units, lrs, dropouts))\n",
    "\n",
    "  # Initialize best validation loss, best combo and the index of the best combo\n",
    "  best_val_loss = 100\n",
    "  best_combo = []\n",
    "  best_combo_index = 0\n",
    "\n",
    "  # Looping over hyperparameters combinations\n",
    "  for i, combo in enumerate(combinations):\n",
    "\n",
    "    # Plot hyperparameters\n",
    "    print(f\"hyperparameters : {combo}\")\n",
    "\n",
    "    # Initialize the model\n",
    "    model = LSTM_model(embedding_dim = combo[0], feature_embedding_dim = combo[0]*4, hidden_units = combo[1],\n",
    "                       dropout_rate = combo[3], vocab_size=60)\n",
    "\n",
    "    # Define the optimizer\n",
    "    optimizer = Adam(learning_rate = combo[2])\n",
    "\n",
    "    # Compile the model\n",
    "    model.compile(optimizer=optimizer, loss = \"sparse_categorical_crossentropy\", metrics = [SeqAccuracy()])\n",
    "\n",
    "    # Define callbacks\n",
    "    callbacks = [ ModelCheckpoint(f'models/best_model_gs_{i}.keras', save_best_only=True)]\n",
    "\n",
    "    # Training\n",
    "    history = model.fit(\n",
    "    [train_symbols, train_features],\n",
    "    train_target,\n",
    "    epochs = epochs,\n",
    "    callbacks = callbacks,\n",
    "    batch_size = 128,\n",
    "    validation_data=([val_symbols, val_features], val_target)\n",
    "    )\n",
    "\n",
    "    if min(history.history['val_loss']) < best_val_loss:\n",
    "\n",
    "      # Save model history\n",
    "      save_history('models/grid_search_bm', history.history['val_loss'], history.history['loss'],\n",
    "                   history.history['val_seq_accuracy'], history.history['seq_accuracy'])\n",
    "\n",
    "      # Update best validation loss, best combo and best combo index\n",
    "      best_val_loss = min(history.history['val_loss'])\n",
    "      best_combo_index = i\n",
    "      best_combo = combo\n",
    "\n",
    "  return combinations, best_val_loss, best_combo, best_combo_index"
   ]
  },
  {
   "cell_type": "code",
   "execution_count": null,
   "metadata": {
    "colab": {
     "base_uri": "https://localhost:8080/"
    },
    "executionInfo": {
     "elapsed": 10955856,
     "status": "ok",
     "timestamp": 1703722436360,
     "user": {
      "displayName": "Aurora Bassani",
      "userId": "18061206548870768652"
     },
     "user_tz": -60
    },
    "id": "JwO4b6LsWjFJ",
    "outputId": "dc80f593-de85-4aec-91c0-8ba6e821dc7b"
   },
   "outputs": [
    {
     "name": "stdout",
     "output_type": "stream",
     "text": [
      "hyperparameters : (128, 1024, 0.001, 0.1)\n",
      "Epoch 1/20\n",
      "195/195 [==============================] - 96s 433ms/step - loss: 1.0702 - seq_accuracy: 0.0000e+00 - val_loss: 0.9261 - val_seq_accuracy: 0.0000e+00\n",
      "Epoch 2/20\n",
      "195/195 [==============================] - 82s 419ms/step - loss: 0.9235 - seq_accuracy: 0.0000e+00 - val_loss: 0.8752 - val_seq_accuracy: 0.0000e+00\n",
      "Epoch 3/20\n",
      "195/195 [==============================] - 82s 420ms/step - loss: 0.8585 - seq_accuracy: 0.0000e+00 - val_loss: 0.8237 - val_seq_accuracy: 0.0000e+00\n",
      "Epoch 4/20\n",
      "195/195 [==============================] - 84s 430ms/step - loss: 0.7894 - seq_accuracy: 0.0000e+00 - val_loss: 0.7552 - val_seq_accuracy: 0.0000e+00\n",
      "Epoch 5/20\n",
      "195/195 [==============================] - 83s 427ms/step - loss: 0.6990 - seq_accuracy: 0.0000e+00 - val_loss: 0.6391 - val_seq_accuracy: 0.0000e+00\n",
      "Epoch 6/20\n",
      "195/195 [==============================] - 83s 423ms/step - loss: 0.6099 - seq_accuracy: 0.0000e+00 - val_loss: 0.5453 - val_seq_accuracy: 0.0000e+00\n",
      "Epoch 7/20\n",
      "195/195 [==============================] - 83s 427ms/step - loss: 0.5165 - seq_accuracy: 0.0000e+00 - val_loss: 0.4652 - val_seq_accuracy: 0.0000e+00\n",
      "Epoch 8/20\n",
      "195/195 [==============================] - 83s 424ms/step - loss: 0.4649 - seq_accuracy: 1.2056e-04 - val_loss: 0.5495 - val_seq_accuracy: 0.0000e+00\n",
      "Epoch 9/20\n",
      "195/195 [==============================] - 83s 424ms/step - loss: 0.4200 - seq_accuracy: 2.4113e-04 - val_loss: 0.4147 - val_seq_accuracy: 0.0000e+00\n",
      "Epoch 10/20\n",
      "195/195 [==============================] - 82s 422ms/step - loss: 0.3747 - seq_accuracy: 4.8226e-04 - val_loss: 0.3449 - val_seq_accuracy: 0.0014\n",
      "Epoch 11/20\n",
      "195/195 [==============================] - 82s 421ms/step - loss: 0.3288 - seq_accuracy: 0.0043 - val_loss: 0.3056 - val_seq_accuracy: 0.0014\n",
      "Epoch 12/20\n",
      "195/195 [==============================] - 82s 422ms/step - loss: 0.2967 - seq_accuracy: 0.0060 - val_loss: 0.2846 - val_seq_accuracy: 0.0076\n",
      "Epoch 13/20\n",
      "195/195 [==============================] - 82s 420ms/step - loss: 0.2727 - seq_accuracy: 0.0108 - val_loss: 0.2793 - val_seq_accuracy: 0.0098\n",
      "Epoch 14/20\n",
      "195/195 [==============================] - 82s 422ms/step - loss: 0.2435 - seq_accuracy: 0.0184 - val_loss: 0.2308 - val_seq_accuracy: 0.0274\n",
      "Epoch 15/20\n",
      "195/195 [==============================] - 79s 406ms/step - loss: 0.2309 - seq_accuracy: 0.0429 - val_loss: 0.2061 - val_seq_accuracy: 0.0931\n",
      "Epoch 16/20\n",
      "195/195 [==============================] - 82s 421ms/step - loss: 0.1854 - seq_accuracy: 0.1315 - val_loss: 0.1690 - val_seq_accuracy: 0.2013\n",
      "Epoch 17/20\n",
      "195/195 [==============================] - 82s 422ms/step - loss: 0.1502 - seq_accuracy: 0.2297 - val_loss: 0.1519 - val_seq_accuracy: 0.2727\n",
      "Epoch 18/20\n",
      "195/195 [==============================] - 82s 422ms/step - loss: 0.1342 - seq_accuracy: 0.2881 - val_loss: 0.1415 - val_seq_accuracy: 0.3253\n",
      "Epoch 19/20\n",
      "195/195 [==============================] - 82s 418ms/step - loss: 0.1223 - seq_accuracy: 0.3438 - val_loss: 0.1502 - val_seq_accuracy: 0.3433\n",
      "Epoch 20/20\n",
      "195/195 [==============================] - 82s 422ms/step - loss: 0.1144 - seq_accuracy: 0.3729 - val_loss: 0.1196 - val_seq_accuracy: 0.4068\n",
      "hyperparameters : (128, 1024, 0.001, 0.2)\n",
      "Epoch 1/20\n",
      "195/195 [==============================] - 87s 426ms/step - loss: 1.0921 - seq_accuracy: 0.0000e+00 - val_loss: 0.9336 - val_seq_accuracy: 0.0000e+00\n",
      "Epoch 2/20\n",
      "195/195 [==============================] - 78s 403ms/step - loss: 0.9111 - seq_accuracy: 0.0000e+00 - val_loss: 0.8710 - val_seq_accuracy: 0.0000e+00\n",
      "Epoch 3/20\n",
      "195/195 [==============================] - 79s 404ms/step - loss: 0.8594 - seq_accuracy: 0.0000e+00 - val_loss: 0.8241 - val_seq_accuracy: 0.0000e+00\n",
      "Epoch 4/20\n",
      "195/195 [==============================] - 82s 419ms/step - loss: 0.7973 - seq_accuracy: 0.0000e+00 - val_loss: 0.7468 - val_seq_accuracy: 0.0000e+00\n",
      "Epoch 5/20\n",
      "195/195 [==============================] - 82s 421ms/step - loss: 0.7190 - seq_accuracy: 0.0000e+00 - val_loss: 0.6720 - val_seq_accuracy: 0.0000e+00\n",
      "Epoch 6/20\n",
      "195/195 [==============================] - 82s 422ms/step - loss: 0.6531 - seq_accuracy: 0.0000e+00 - val_loss: 0.5923 - val_seq_accuracy: 0.0000e+00\n",
      "Epoch 7/20\n",
      "195/195 [==============================] - 79s 405ms/step - loss: 0.5748 - seq_accuracy: 0.0000e+00 - val_loss: 0.5185 - val_seq_accuracy: 0.0000e+00\n",
      "Epoch 8/20\n",
      "195/195 [==============================] - 82s 421ms/step - loss: 0.5163 - seq_accuracy: 0.0000e+00 - val_loss: 0.4608 - val_seq_accuracy: 0.0000e+00\n",
      "Epoch 9/20\n",
      "195/195 [==============================] - 82s 422ms/step - loss: 0.4523 - seq_accuracy: 4.0188e-05 - val_loss: 0.4097 - val_seq_accuracy: 0.0000e+00\n",
      "Epoch 10/20\n",
      "195/195 [==============================] - 80s 408ms/step - loss: 0.4001 - seq_accuracy: 3.6169e-04 - val_loss: 0.3764 - val_seq_accuracy: 2.8129e-04\n",
      "Epoch 11/20\n",
      "195/195 [==============================] - 83s 428ms/step - loss: 0.3776 - seq_accuracy: 7.6357e-04 - val_loss: 0.3349 - val_seq_accuracy: 5.6259e-04\n",
      "Epoch 12/20\n",
      "195/195 [==============================] - 83s 424ms/step - loss: 0.3277 - seq_accuracy: 0.0017 - val_loss: 0.3034 - val_seq_accuracy: 0.0032\n",
      "Epoch 13/20\n",
      "195/195 [==============================] - 84s 428ms/step - loss: 0.3016 - seq_accuracy: 0.0036 - val_loss: 0.2899 - val_seq_accuracy: 0.0028\n",
      "Epoch 14/20\n",
      "195/195 [==============================] - 83s 424ms/step - loss: 0.2871 - seq_accuracy: 0.0053 - val_loss: 0.2739 - val_seq_accuracy: 0.0063\n",
      "Epoch 15/20\n",
      "195/195 [==============================] - 83s 426ms/step - loss: 0.2654 - seq_accuracy: 0.0076 - val_loss: 0.2561 - val_seq_accuracy: 0.0093\n",
      "Epoch 16/20\n",
      "195/195 [==============================] - 84s 433ms/step - loss: 0.2499 - seq_accuracy: 0.0215 - val_loss: 0.2279 - val_seq_accuracy: 0.0602\n",
      "Epoch 17/20\n",
      "195/195 [==============================] - 82s 423ms/step - loss: 0.1911 - seq_accuracy: 0.1284 - val_loss: 0.1644 - val_seq_accuracy: 0.2620\n",
      "Epoch 18/20\n",
      "195/195 [==============================] - 82s 423ms/step - loss: 0.1569 - seq_accuracy: 0.2419 - val_loss: 0.1463 - val_seq_accuracy: 0.3505\n",
      "Epoch 19/20\n",
      "195/195 [==============================] - 82s 422ms/step - loss: 0.1329 - seq_accuracy: 0.3134 - val_loss: 0.1296 - val_seq_accuracy: 0.3896\n",
      "Epoch 20/20\n",
      "195/195 [==============================] - 83s 428ms/step - loss: 0.1197 - seq_accuracy: 0.3551 - val_loss: 0.1247 - val_seq_accuracy: 0.4167\n",
      "hyperparameters : (128, 1024, 0.001, 0.3)\n",
      "Epoch 1/20\n",
      "195/195 [==============================] - 86s 415ms/step - loss: 1.0903 - seq_accuracy: 0.0000e+00 - val_loss: 0.9387 - val_seq_accuracy: 0.0000e+00\n",
      "Epoch 2/20\n",
      "195/195 [==============================] - 80s 408ms/step - loss: 0.9158 - seq_accuracy: 0.0000e+00 - val_loss: 0.8890 - val_seq_accuracy: 0.0000e+00\n",
      "Epoch 3/20\n",
      "195/195 [==============================] - 83s 424ms/step - loss: 0.8658 - seq_accuracy: 0.0000e+00 - val_loss: 0.8408 - val_seq_accuracy: 0.0000e+00\n",
      "Epoch 4/20\n",
      "195/195 [==============================] - 83s 426ms/step - loss: 0.8104 - seq_accuracy: 0.0000e+00 - val_loss: 0.7563 - val_seq_accuracy: 0.0000e+00\n",
      "Epoch 5/20\n",
      "195/195 [==============================] - 83s 426ms/step - loss: 0.7355 - seq_accuracy: 0.0000e+00 - val_loss: 0.6761 - val_seq_accuracy: 0.0000e+00\n",
      "Epoch 6/20\n",
      "195/195 [==============================] - 82s 420ms/step - loss: 0.6594 - seq_accuracy: 0.0000e+00 - val_loss: 0.5848 - val_seq_accuracy: 0.0000e+00\n",
      "Epoch 7/20\n",
      "195/195 [==============================] - 85s 435ms/step - loss: 0.5770 - seq_accuracy: 0.0000e+00 - val_loss: 0.5326 - val_seq_accuracy: 0.0000e+00\n",
      "Epoch 8/20\n",
      "195/195 [==============================] - 83s 428ms/step - loss: 0.5370 - seq_accuracy: 0.0000e+00 - val_loss: 0.4689 - val_seq_accuracy: 0.0000e+00\n",
      "Epoch 9/20\n",
      "195/195 [==============================] - 84s 430ms/step - loss: 0.4689 - seq_accuracy: 8.0376e-05 - val_loss: 0.4356 - val_seq_accuracy: 1.4065e-04\n",
      "Epoch 10/20\n",
      "195/195 [==============================] - 84s 429ms/step - loss: 0.4289 - seq_accuracy: 3.2150e-04 - val_loss: 0.4027 - val_seq_accuracy: 2.8129e-04\n",
      "Epoch 11/20\n",
      "195/195 [==============================] - 83s 425ms/step - loss: 0.3860 - seq_accuracy: 0.0012 - val_loss: 0.3610 - val_seq_accuracy: 0.0014\n",
      "Epoch 12/20\n",
      "195/195 [==============================] - 84s 430ms/step - loss: 0.3506 - seq_accuracy: 0.0024 - val_loss: 0.3484 - val_seq_accuracy: 0.0025\n",
      "Epoch 13/20\n",
      "195/195 [==============================] - 84s 430ms/step - loss: 0.3303 - seq_accuracy: 0.0041 - val_loss: 0.2996 - val_seq_accuracy: 0.0052\n",
      "Epoch 14/20\n",
      "195/195 [==============================] - 83s 425ms/step - loss: 0.3050 - seq_accuracy: 0.0057 - val_loss: 0.2902 - val_seq_accuracy: 0.0051\n",
      "Epoch 15/20\n",
      "195/195 [==============================] - 83s 425ms/step - loss: 0.2890 - seq_accuracy: 0.0055 - val_loss: 0.2761 - val_seq_accuracy: 0.0058\n",
      "Epoch 16/20\n",
      "195/195 [==============================] - 83s 424ms/step - loss: 0.2609 - seq_accuracy: 0.0071 - val_loss: 0.2497 - val_seq_accuracy: 0.0108\n",
      "Epoch 17/20\n",
      "195/195 [==============================] - 83s 426ms/step - loss: 0.2454 - seq_accuracy: 0.0100 - val_loss: 0.2408 - val_seq_accuracy: 0.0110\n",
      "Epoch 18/20\n",
      "195/195 [==============================] - 84s 429ms/step - loss: 0.2297 - seq_accuracy: 0.0104 - val_loss: 0.2271 - val_seq_accuracy: 0.0124\n",
      "Epoch 19/20\n",
      "195/195 [==============================] - 82s 421ms/step - loss: 0.2226 - seq_accuracy: 0.0135 - val_loss: 0.2286 - val_seq_accuracy: 0.0149\n",
      "Epoch 20/20\n",
      "195/195 [==============================] - 83s 425ms/step - loss: 0.2008 - seq_accuracy: 0.0175 - val_loss: 0.2122 - val_seq_accuracy: 0.0184\n",
      "hyperparameters : (256, 1024, 0.001, 0.1)\n",
      "Epoch 1/20\n",
      "195/195 [==============================] - 104s 506ms/step - loss: 1.1003 - seq_accuracy: 0.0000e+00 - val_loss: 0.9283 - val_seq_accuracy: 0.0000e+00\n",
      "Epoch 2/20\n",
      "195/195 [==============================] - 97s 499ms/step - loss: 0.9229 - seq_accuracy: 0.0000e+00 - val_loss: 0.8852 - val_seq_accuracy: 0.0000e+00\n",
      "Epoch 3/20\n",
      "195/195 [==============================] - 96s 491ms/step - loss: 0.8570 - seq_accuracy: 0.0000e+00 - val_loss: 0.8076 - val_seq_accuracy: 0.0000e+00\n",
      "Epoch 4/20\n",
      "195/195 [==============================] - 97s 500ms/step - loss: 0.7516 - seq_accuracy: 0.0000e+00 - val_loss: 0.6699 - val_seq_accuracy: 0.0000e+00\n",
      "Epoch 5/20\n",
      "195/195 [==============================] - 96s 492ms/step - loss: 0.6363 - seq_accuracy: 0.0000e+00 - val_loss: 0.5898 - val_seq_accuracy: 0.0000e+00\n",
      "Epoch 6/20\n",
      "195/195 [==============================] - 98s 501ms/step - loss: 0.5519 - seq_accuracy: 0.0000e+00 - val_loss: 0.5176 - val_seq_accuracy: 0.0000e+00\n",
      "Epoch 7/20\n",
      "195/195 [==============================] - 95s 487ms/step - loss: 0.4787 - seq_accuracy: 0.0000e+00 - val_loss: 0.6226 - val_seq_accuracy: 0.0000e+00\n",
      "Epoch 8/20\n",
      "195/195 [==============================] - 96s 493ms/step - loss: 0.4281 - seq_accuracy: 1.2056e-04 - val_loss: 0.3997 - val_seq_accuracy: 0.0000e+00\n",
      "Epoch 9/20\n",
      "195/195 [==============================] - 96s 494ms/step - loss: 0.3678 - seq_accuracy: 0.0015 - val_loss: 0.3275 - val_seq_accuracy: 0.0027\n",
      "Epoch 10/20\n",
      "195/195 [==============================] - 99s 506ms/step - loss: 0.3450 - seq_accuracy: 0.0045 - val_loss: 0.2964 - val_seq_accuracy: 0.0094\n",
      "Epoch 11/20\n",
      "195/195 [==============================] - 98s 502ms/step - loss: 0.2856 - seq_accuracy: 0.0268 - val_loss: 0.2683 - val_seq_accuracy: 0.0592\n",
      "Epoch 12/20\n",
      "195/195 [==============================] - 98s 501ms/step - loss: 0.2422 - seq_accuracy: 0.0892 - val_loss: 0.2157 - val_seq_accuracy: 0.1589\n",
      "Epoch 13/20\n",
      "195/195 [==============================] - 98s 502ms/step - loss: 0.2318 - seq_accuracy: 0.1346 - val_loss: 0.2106 - val_seq_accuracy: 0.2068\n",
      "Epoch 14/20\n",
      "195/195 [==============================] - 97s 500ms/step - loss: 0.1903 - seq_accuracy: 0.2139 - val_loss: 0.1719 - val_seq_accuracy: 0.2788\n",
      "Epoch 15/20\n",
      "195/195 [==============================] - 95s 488ms/step - loss: 0.1747 - seq_accuracy: 0.2664 - val_loss: 0.1854 - val_seq_accuracy: 0.2990\n",
      "Epoch 16/20\n",
      "195/195 [==============================] - 98s 502ms/step - loss: 0.1523 - seq_accuracy: 0.3249 - val_loss: 0.1491 - val_seq_accuracy: 0.3755\n",
      "Epoch 17/20\n",
      "195/195 [==============================] - 97s 497ms/step - loss: 0.1352 - seq_accuracy: 0.3681 - val_loss: 0.1553 - val_seq_accuracy: 0.3716\n",
      "Epoch 18/20\n",
      "195/195 [==============================] - 96s 493ms/step - loss: 0.1213 - seq_accuracy: 0.3974 - val_loss: 0.1323 - val_seq_accuracy: 0.4086\n",
      "Epoch 19/20\n",
      "195/195 [==============================] - 96s 494ms/step - loss: 0.1037 - seq_accuracy: 0.4469 - val_loss: 0.1248 - val_seq_accuracy: 0.4688\n",
      "Epoch 20/20\n",
      "195/195 [==============================] - 98s 502ms/step - loss: 0.1018 - seq_accuracy: 0.4561 - val_loss: 0.1187 - val_seq_accuracy: 0.4695\n",
      "hyperparameters : (256, 1024, 0.001, 0.2)\n",
      "Epoch 1/20\n",
      "195/195 [==============================] - 102s 503ms/step - loss: 1.0703 - seq_accuracy: 0.0000e+00 - val_loss: 0.9179 - val_seq_accuracy: 0.0000e+00\n",
      "Epoch 2/20\n",
      "195/195 [==============================] - 98s 504ms/step - loss: 0.8882 - seq_accuracy: 0.0000e+00 - val_loss: 0.8666 - val_seq_accuracy: 0.0000e+00\n",
      "Epoch 3/20\n",
      "195/195 [==============================] - 98s 503ms/step - loss: 0.8261 - seq_accuracy: 0.0000e+00 - val_loss: 0.7695 - val_seq_accuracy: 0.0000e+00\n",
      "Epoch 4/20\n",
      "195/195 [==============================] - 99s 505ms/step - loss: 0.7339 - seq_accuracy: 0.0000e+00 - val_loss: 0.6843 - val_seq_accuracy: 0.0000e+00\n",
      "Epoch 5/20\n",
      "195/195 [==============================] - 99s 507ms/step - loss: 0.6176 - seq_accuracy: 0.0000e+00 - val_loss: 0.5377 - val_seq_accuracy: 0.0000e+00\n",
      "Epoch 6/20\n",
      "195/195 [==============================] - 97s 498ms/step - loss: 0.5146 - seq_accuracy: 0.0000e+00 - val_loss: 0.4653 - val_seq_accuracy: 0.0000e+00\n",
      "Epoch 7/20\n",
      "195/195 [==============================] - 99s 507ms/step - loss: 0.4564 - seq_accuracy: 1.2056e-04 - val_loss: 0.4470 - val_seq_accuracy: 1.4065e-04\n",
      "Epoch 8/20\n",
      "195/195 [==============================] - 100s 511ms/step - loss: 0.3794 - seq_accuracy: 0.0049 - val_loss: 0.3078 - val_seq_accuracy: 0.0187\n",
      "Epoch 9/20\n",
      "195/195 [==============================] - 99s 507ms/step - loss: 0.3152 - seq_accuracy: 0.0211 - val_loss: 0.2790 - val_seq_accuracy: 0.0470\n",
      "Epoch 10/20\n",
      "195/195 [==============================] - 99s 507ms/step - loss: 0.2715 - seq_accuracy: 0.0642 - val_loss: 0.2267 - val_seq_accuracy: 0.1872\n",
      "Epoch 11/20\n",
      "195/195 [==============================] - 99s 509ms/step - loss: 0.2268 - seq_accuracy: 0.1648 - val_loss: 0.1970 - val_seq_accuracy: 0.2667\n",
      "Epoch 12/20\n",
      "195/195 [==============================] - 98s 503ms/step - loss: 0.2147 - seq_accuracy: 0.2048 - val_loss: 0.2009 - val_seq_accuracy: 0.2913\n",
      "Epoch 13/20\n",
      "195/195 [==============================] - 99s 508ms/step - loss: 0.1928 - seq_accuracy: 0.2302 - val_loss: 0.1747 - val_seq_accuracy: 0.3442\n",
      "Epoch 14/20\n",
      "195/195 [==============================] - 97s 497ms/step - loss: 0.1608 - seq_accuracy: 0.2982 - val_loss: 0.1833 - val_seq_accuracy: 0.2594\n",
      "Epoch 15/20\n",
      "195/195 [==============================] - 99s 507ms/step - loss: 0.1465 - seq_accuracy: 0.3147 - val_loss: 0.1437 - val_seq_accuracy: 0.3814\n",
      "Epoch 16/20\n",
      "195/195 [==============================] - 99s 510ms/step - loss: 0.1267 - seq_accuracy: 0.3802 - val_loss: 0.1422 - val_seq_accuracy: 0.4271\n",
      "Epoch 17/20\n",
      "195/195 [==============================] - 100s 511ms/step - loss: 0.1157 - seq_accuracy: 0.4044 - val_loss: 0.1196 - val_seq_accuracy: 0.4771\n",
      "Epoch 18/20\n",
      "195/195 [==============================] - 99s 509ms/step - loss: 0.1022 - seq_accuracy: 0.4474 - val_loss: 0.1078 - val_seq_accuracy: 0.5165\n",
      "Epoch 19/20\n",
      "195/195 [==============================] - 98s 500ms/step - loss: 0.0896 - seq_accuracy: 0.4828 - val_loss: 0.1049 - val_seq_accuracy: 0.5295\n",
      "Epoch 20/20\n",
      "195/195 [==============================] - 99s 510ms/step - loss: 0.0921 - seq_accuracy: 0.4742 - val_loss: 0.1024 - val_seq_accuracy: 0.5405\n",
      "hyperparameters : (256, 1024, 0.001, 0.3)\n",
      "Epoch 1/20\n",
      "195/195 [==============================] - 106s 517ms/step - loss: 1.0989 - seq_accuracy: 0.0000e+00 - val_loss: 0.9884 - val_seq_accuracy: 0.0000e+00\n",
      "Epoch 2/20\n",
      "195/195 [==============================] - 98s 503ms/step - loss: 0.9092 - seq_accuracy: 0.0000e+00 - val_loss: 0.8663 - val_seq_accuracy: 0.0000e+00\n",
      "Epoch 3/20\n",
      "195/195 [==============================] - 97s 500ms/step - loss: 0.8506 - seq_accuracy: 0.0000e+00 - val_loss: 0.7966 - val_seq_accuracy: 0.0000e+00\n",
      "Epoch 4/20\n",
      "195/195 [==============================] - 98s 502ms/step - loss: 0.7665 - seq_accuracy: 0.0000e+00 - val_loss: 0.6773 - val_seq_accuracy: 0.0000e+00\n",
      "Epoch 5/20\n",
      "195/195 [==============================] - 98s 503ms/step - loss: 0.6469 - seq_accuracy: 0.0000e+00 - val_loss: 0.5778 - val_seq_accuracy: 0.0000e+00\n",
      "Epoch 6/20\n",
      "195/195 [==============================] - 98s 504ms/step - loss: 0.5552 - seq_accuracy: 0.0000e+00 - val_loss: 0.5025 - val_seq_accuracy: 0.0000e+00\n",
      "Epoch 7/20\n",
      "195/195 [==============================] - 98s 503ms/step - loss: 0.4975 - seq_accuracy: 0.0000e+00 - val_loss: 0.4565 - val_seq_accuracy: 0.0000e+00\n",
      "Epoch 8/20\n",
      "195/195 [==============================] - 98s 503ms/step - loss: 0.4319 - seq_accuracy: 1.6075e-04 - val_loss: 0.3879 - val_seq_accuracy: 1.4065e-04\n",
      "Epoch 9/20\n",
      "195/195 [==============================] - 98s 503ms/step - loss: 0.3750 - seq_accuracy: 0.0016 - val_loss: 0.3497 - val_seq_accuracy: 0.0017\n",
      "Epoch 10/20\n",
      "195/195 [==============================] - 96s 494ms/step - loss: 0.3489 - seq_accuracy: 0.0043 - val_loss: 0.3011 - val_seq_accuracy: 0.0094\n",
      "Epoch 11/20\n",
      "195/195 [==============================] - 97s 499ms/step - loss: 0.2988 - seq_accuracy: 0.0118 - val_loss: 0.4483 - val_seq_accuracy: 0.0143\n",
      "Epoch 12/20\n",
      "195/195 [==============================] - 98s 504ms/step - loss: 0.3284 - seq_accuracy: 0.0129 - val_loss: 0.2479 - val_seq_accuracy: 0.0457\n",
      "Epoch 13/20\n",
      "195/195 [==============================] - 98s 504ms/step - loss: 0.2394 - seq_accuracy: 0.0571 - val_loss: 0.2173 - val_seq_accuracy: 0.1453\n",
      "Epoch 14/20\n",
      "195/195 [==============================] - 98s 504ms/step - loss: 0.2021 - seq_accuracy: 0.1491 - val_loss: 0.1900 - val_seq_accuracy: 0.2374\n",
      "Epoch 15/20\n",
      "195/195 [==============================] - 98s 503ms/step - loss: 0.1795 - seq_accuracy: 0.2094 - val_loss: 0.1624 - val_seq_accuracy: 0.2872\n",
      "Epoch 16/20\n",
      "195/195 [==============================] - 96s 490ms/step - loss: 0.1634 - seq_accuracy: 0.2425 - val_loss: 0.1641 - val_seq_accuracy: 0.2864\n",
      "Epoch 17/20\n",
      "195/195 [==============================] - 98s 503ms/step - loss: 0.1513 - seq_accuracy: 0.2685 - val_loss: 0.1353 - val_seq_accuracy: 0.3672\n",
      "Epoch 18/20\n",
      "195/195 [==============================] - 98s 504ms/step - loss: 0.1356 - seq_accuracy: 0.3032 - val_loss: 0.1313 - val_seq_accuracy: 0.3812\n",
      "Epoch 19/20\n",
      "195/195 [==============================] - 97s 500ms/step - loss: 0.1241 - seq_accuracy: 0.3314 - val_loss: 0.1319 - val_seq_accuracy: 0.4091\n",
      "Epoch 20/20\n",
      "195/195 [==============================] - 98s 504ms/step - loss: 0.1130 - seq_accuracy: 0.3542 - val_loss: 0.1181 - val_seq_accuracy: 0.4184\n"
     ]
    }
   ],
   "source": [
    "# Hyperparameter combinations to try during the grid search\n",
    "parameters = {}\n",
    "parameters['embedding_dim'] = np.array([128, 256])\n",
    "parameters['hidden_units'] = np.array([1024])\n",
    "parameters['learning_rate'] = np.array([0.001])\n",
    "parameters['dropout_rate'] = np.array([0.1, 0.2, 0.3])\n",
    "\n",
    "# Grid search\n",
    "combinations, best_val_loss, best_combo, best_combo_index = grid_search(parameters, epochs = 20)"
   ]
  },
  {
   "cell_type": "code",
   "execution_count": null,
   "metadata": {
    "colab": {
     "base_uri": "https://localhost:8080/"
    },
    "executionInfo": {
     "elapsed": 115,
     "status": "ok",
     "timestamp": 1703722436363,
     "user": {
      "displayName": "Aurora Bassani",
      "userId": "18061206548870768652"
     },
     "user_tz": -60
    },
    "id": "yueCQvVsrXex",
    "outputId": "db21b1b7-900d-4ad5-96eb-ae39169aebed"
   },
   "outputs": [
    {
     "data": {
      "text/plain": [
       "([(128, 1024, 0.001, 0.1),\n",
       "  (128, 1024, 0.001, 0.2),\n",
       "  (128, 1024, 0.001, 0.3),\n",
       "  (256, 1024, 0.001, 0.1),\n",
       "  (256, 1024, 0.001, 0.2),\n",
       "  (256, 1024, 0.001, 0.3)],\n",
       " 0.10242782533168793,\n",
       " (256, 1024, 0.001, 0.2),\n",
       " 4)"
      ]
     },
     "execution_count": 10,
     "metadata": {},
     "output_type": "execute_result"
    }
   ],
   "source": [
    "combinations, best_val_loss, best_combo, best_combo_index"
   ]
  },
  {
   "cell_type": "markdown",
   "metadata": {
    "id": "UxDSTTbQeppf"
   },
   "source": [
    "# Train the best model for more epochs\n",
    "---\n",
    "\n"
   ]
  },
  {
   "cell_type": "markdown",
   "metadata": {
    "id": "cO0GZNJxUit0"
   },
   "source": [
    "In this section, we will take the best model obtained from the grid search and train it further until a total of $50$ epochs."
   ]
  },
  {
   "cell_type": "code",
   "execution_count": 46,
   "metadata": {
    "executionInfo": {
     "elapsed": 216,
     "status": "ok",
     "timestamp": 1703757878856,
     "user": {
      "displayName": "Aurora Bassani",
      "userId": "06626732176420281481"
     },
     "user_tz": -60
    },
    "id": "REyhzYsrijiI"
   },
   "outputs": [],
   "source": [
    "# Take the best model from the grid search and its history\n",
    "best_combo_index = 4\n",
    "best_model_gs = load_model(f'models/best_model_gs_{best_combo_index}.keras')\n",
    "val_loss, train_loss, val_acc, train_acc = read_history('models/grid_search_bm')"
   ]
  },
  {
   "cell_type": "code",
   "execution_count": 47,
   "metadata": {
    "executionInfo": {
     "elapsed": 220,
     "status": "ok",
     "timestamp": 1703757880626,
     "user": {
      "displayName": "Aurora Bassani",
      "userId": "06626732176420281481"
     },
     "user_tz": -60
    },
    "id": "y2RFEWe47Jya"
   },
   "outputs": [],
   "source": [
    "# Compute the best epoch at which the model was saved and take the history till that point\n",
    "best_epoch = np.where(val_loss == np.min(val_loss))[0][0]\n",
    "val_loss = val_loss[:best_epoch+1]\n",
    "train_loss = train_loss[:best_epoch+1]\n",
    "val_acc = val_acc[:best_epoch+1]\n",
    "train_acc = train_acc[:best_epoch+1]\n",
    "\n",
    "# Computing the remaining epochs as total epochs - trained epochs\n",
    "remaining_epochs = 50-(best_epoch+1)"
   ]
  },
  {
   "cell_type": "code",
   "execution_count": 12,
   "metadata": {
    "colab": {
     "base_uri": "https://localhost:8080/"
    },
    "id": "OJE2AMf1e2uL",
    "executionInfo": {
     "status": "ok",
     "timestamp": 1703757561087,
     "user_tz": -60,
     "elapsed": 2907559,
     "user": {
      "displayName": "Aurora Bassani",
      "userId": "06626732176420281481"
     }
    },
    "outputId": "f54d3b1c-7860-4895-eb77-f2d38abfd472"
   },
   "outputs": [
    {
     "output_type": "stream",
     "name": "stdout",
     "text": [
      "Epoch 1/30\n",
      "195/195 [==============================] - 103s 494ms/step - loss: 0.0842 - seq_accuracy: 0.4993 - val_loss: 0.1218 - val_seq_accuracy: 0.4744\n",
      "Epoch 2/30\n",
      "195/195 [==============================] - 97s 499ms/step - loss: 0.0782 - seq_accuracy: 0.5130 - val_loss: 0.0960 - val_seq_accuracy: 0.5710\n",
      "Epoch 3/30\n",
      "195/195 [==============================] - 97s 500ms/step - loss: 0.0719 - seq_accuracy: 0.5340 - val_loss: 0.0901 - val_seq_accuracy: 0.5731\n",
      "Epoch 4/30\n",
      "195/195 [==============================] - 98s 500ms/step - loss: 0.0571 - seq_accuracy: 0.5816 - val_loss: 0.0865 - val_seq_accuracy: 0.5951\n",
      "Epoch 5/30\n",
      "195/195 [==============================] - 97s 495ms/step - loss: 0.0640 - seq_accuracy: 0.5638 - val_loss: 0.0911 - val_seq_accuracy: 0.5861\n",
      "Epoch 6/30\n",
      "195/195 [==============================] - 97s 500ms/step - loss: 0.0540 - seq_accuracy: 0.6001 - val_loss: 0.0854 - val_seq_accuracy: 0.6035\n",
      "Epoch 7/30\n",
      "195/195 [==============================] - 97s 495ms/step - loss: 0.0863 - seq_accuracy: 0.4862 - val_loss: 0.1037 - val_seq_accuracy: 0.5301\n",
      "Epoch 8/30\n",
      "195/195 [==============================] - 95s 487ms/step - loss: 0.0529 - seq_accuracy: 0.5722 - val_loss: 0.0876 - val_seq_accuracy: 0.5866\n",
      "Epoch 9/30\n",
      "195/195 [==============================] - 97s 499ms/step - loss: 0.0377 - seq_accuracy: 0.6443 - val_loss: 0.0825 - val_seq_accuracy: 0.6200\n",
      "Epoch 10/30\n",
      "195/195 [==============================] - 97s 496ms/step - loss: 0.0498 - seq_accuracy: 0.6080 - val_loss: 0.0839 - val_seq_accuracy: 0.6134\n",
      "Epoch 11/30\n",
      "195/195 [==============================] - 97s 496ms/step - loss: 0.0393 - seq_accuracy: 0.6494 - val_loss: 0.0867 - val_seq_accuracy: 0.6118\n",
      "Epoch 12/30\n",
      "195/195 [==============================] - 96s 492ms/step - loss: 0.0344 - seq_accuracy: 0.6757 - val_loss: 0.0792 - val_seq_accuracy: 0.6339\n",
      "Epoch 13/30\n",
      "195/195 [==============================] - 97s 497ms/step - loss: 0.0514 - seq_accuracy: 0.6238 - val_loss: 0.0928 - val_seq_accuracy: 0.5586\n",
      "Epoch 14/30\n",
      "195/195 [==============================] - 97s 496ms/step - loss: 0.0458 - seq_accuracy: 0.6332 - val_loss: 0.2071 - val_seq_accuracy: 0.3938\n",
      "Epoch 15/30\n",
      "195/195 [==============================] - 96s 495ms/step - loss: 0.0603 - seq_accuracy: 0.5672 - val_loss: 0.1046 - val_seq_accuracy: 0.5800\n",
      "Epoch 16/30\n",
      "195/195 [==============================] - 97s 500ms/step - loss: 0.0343 - seq_accuracy: 0.6599 - val_loss: 0.0784 - val_seq_accuracy: 0.6398\n",
      "Epoch 17/30\n",
      "195/195 [==============================] - 97s 499ms/step - loss: 0.0240 - seq_accuracy: 0.7312 - val_loss: 0.0764 - val_seq_accuracy: 0.6556\n",
      "Epoch 18/30\n",
      "195/195 [==============================] - 97s 495ms/step - loss: 0.0226 - seq_accuracy: 0.7532 - val_loss: 0.0826 - val_seq_accuracy: 0.6496\n",
      "Epoch 19/30\n",
      "195/195 [==============================] - 97s 496ms/step - loss: 0.0235 - seq_accuracy: 0.7611 - val_loss: 0.0855 - val_seq_accuracy: 0.6367\n",
      "Epoch 20/30\n",
      "195/195 [==============================] - 96s 495ms/step - loss: 0.0609 - seq_accuracy: 0.5629 - val_loss: 0.1055 - val_seq_accuracy: 0.5329\n",
      "Epoch 21/30\n",
      "195/195 [==============================] - 97s 496ms/step - loss: 0.0388 - seq_accuracy: 0.6421 - val_loss: 0.0787 - val_seq_accuracy: 0.6387\n",
      "Epoch 22/30\n",
      "195/195 [==============================] - 97s 496ms/step - loss: 0.0205 - seq_accuracy: 0.7458 - val_loss: 0.0833 - val_seq_accuracy: 0.6471\n",
      "Epoch 23/30\n",
      "195/195 [==============================] - 97s 497ms/step - loss: 0.0190 - seq_accuracy: 0.7658 - val_loss: 0.0853 - val_seq_accuracy: 0.6606\n",
      "Epoch 24/30\n",
      "195/195 [==============================] - 97s 497ms/step - loss: 0.0201 - seq_accuracy: 0.7870 - val_loss: 0.0831 - val_seq_accuracy: 0.6646\n",
      "Epoch 25/30\n",
      "195/195 [==============================] - 97s 496ms/step - loss: 0.0194 - seq_accuracy: 0.7803 - val_loss: 0.0842 - val_seq_accuracy: 0.6681\n",
      "Epoch 26/30\n",
      "195/195 [==============================] - 97s 496ms/step - loss: 0.0178 - seq_accuracy: 0.7843 - val_loss: 0.0942 - val_seq_accuracy: 0.6515\n",
      "Epoch 27/30\n",
      "195/195 [==============================] - 97s 497ms/step - loss: 0.0176 - seq_accuracy: 0.7916 - val_loss: 0.0828 - val_seq_accuracy: 0.6799\n",
      "Epoch 28/30\n",
      "195/195 [==============================] - 97s 496ms/step - loss: 0.0154 - seq_accuracy: 0.8063 - val_loss: 0.1027 - val_seq_accuracy: 0.6380\n",
      "Epoch 29/30\n",
      "195/195 [==============================] - 95s 487ms/step - loss: 0.0226 - seq_accuracy: 0.7422 - val_loss: 0.0917 - val_seq_accuracy: 0.6277\n",
      "Epoch 30/30\n",
      "195/195 [==============================] - 97s 496ms/step - loss: 0.0303 - seq_accuracy: 0.7122 - val_loss: 0.1046 - val_seq_accuracy: 0.5959\n"
     ]
    }
   ],
   "source": [
    "# Train the best model for the remaining epochs so that we train the best model for 50 epochs in total\n",
    "callbacks = [ ModelCheckpoint(f'models/best_model.keras', save_best_only=True)]\n",
    "\n",
    "history_bm_gs = best_model_gs.fit(\n",
    "    [train_symbols, train_features],\n",
    "    train_target,\n",
    "    epochs = remaining_epochs,\n",
    "    callbacks = callbacks,\n",
    "    batch_size = 128,\n",
    "    validation_data=([val_symbols, val_features], val_target)\n",
    "    )"
   ]
  },
  {
   "cell_type": "code",
   "execution_count": 52,
   "metadata": {
    "id": "xKsKgKEj8zkk",
    "executionInfo": {
     "status": "ok",
     "timestamp": 1703757933670,
     "user_tz": -60,
     "elapsed": 221,
     "user": {
      "displayName": "Aurora Bassani",
      "userId": "06626732176420281481"
     }
    }
   },
   "outputs": [],
   "source": [
    "# Concatenate the history of the last epochs\n",
    "train_acc.extend(history_bm_gs.history['seq_accuracy'])\n",
    "val_acc.extend(history_bm_gs.history['val_seq_accuracy'])\n",
    "train_loss.extend(history_bm_gs.history['loss'])\n",
    "val_loss.extend(history_bm_gs.history['val_loss'])\n",
    "\n",
    "# Save the history of the model trained with totally 50 epochs\n",
    "save_history('models/best_model', val_loss, train_loss,\n",
    "                   val_acc, train_acc)"
   ]
  },
  {
   "cell_type": "code",
   "execution_count": 53,
   "metadata": {
    "id": "jrugT7HsVqwA",
    "executionInfo": {
     "status": "ok",
     "timestamp": 1703757943057,
     "user_tz": -60,
     "elapsed": 7416,
     "user": {
      "displayName": "Aurora Bassani",
      "userId": "06626732176420281481"
     }
    }
   },
   "outputs": [],
   "source": [
    "# Load the best model trained on 50 epochs and its history\n",
    "val_loss, train_loss, val_acc, train_acc = read_history('models/best_model')\n",
    "best_model = load_model('models/best_model.keras')"
   ]
  },
  {
   "cell_type": "code",
   "execution_count": 55,
   "metadata": {
    "id": "fsSipz5kVur1",
    "colab": {
     "base_uri": "https://localhost:8080/",
     "height": 572
    },
    "executionInfo": {
     "status": "ok",
     "timestamp": 1703757952494,
     "user_tz": -60,
     "elapsed": 724,
     "user": {
      "displayName": "Aurora Bassani",
      "userId": "06626732176420281481"
     }
    },
    "outputId": "24c7bb18-d871-44f1-a4df-1111fe4214b8"
   },
   "outputs": [
    {
     "output_type": "display_data",
     "data": {
      "text/plain": [
       "<Figure size 1000x600 with 1 Axes>"
      ],
      "image/png": "[encoded data removed]"
     },
     "metadata": {}
    }
   ],
   "source": [
    "# Plot the loss over epochs on the train and validation set\n",
    "plt.figure(figsize = (10, 6))\n",
    "plt.plot(range(1, 51), train_loss, label='Train', color='darkgreen', marker = 'o')\n",
    "plt.plot(range(1, 51), val_loss, label='Validation', color='purple', marker = 'o')\n",
    "plt.legend()\n",
    "plt.grid()\n",
    "plt.xlabel('Epoch')\n",
    "plt.ylabel('Loss')\n",
    "plt.title('LOSS OVER EPOCHS', fontsize=20)\n",
    "plt.show()"
   ]
  },
  {
   "cell_type": "code",
   "execution_count": 56,
   "metadata": {
    "id": "0OaT7q3BVq0Q",
    "colab": {
     "base_uri": "https://localhost:8080/",
     "height": 572
    },
    "executionInfo": {
     "status": "ok",
     "timestamp": 1703757956008,
     "user_tz": -60,
     "elapsed": 744,
     "user": {
      "displayName": "Aurora Bassani",
      "userId": "06626732176420281481"
     }
    },
    "outputId": "bd0ca22e-5aff-42bb-d96d-b62a8d541a59"
   },
   "outputs": [
    {
     "output_type": "display_data",
     "data": {
      "text/plain": [
       "<Figure size 1000x600 with 1 Axes>"
      ],
      "image/png": "[encoded data removed]"
     },
     "metadata": {}
    }
   ],
   "source": [
    "# Plot the sequence accuracy over epochs on the train and validation set\n",
    "plt.figure(figsize = (10, 6))\n",
    "plt.plot(range(1, 51), train_acc, label='Train', color='darkgreen', marker = 'o')\n",
    "plt.plot(range(1, 51), val_acc, label='Validation', color='purple', marker = 'o')\n",
    "plt.legend()\n",
    "plt.grid()\n",
    "plt.xlabel('Epoch')\n",
    "plt.ylabel('Accuracy')\n",
    "plt.title('ACCURACY OVER EPOCHS', fontsize=20)\n",
    "plt.show()"
   ]
  },
  {
   "cell_type": "code",
   "execution_count": 60,
   "metadata": {
    "id": "G4Tb8D5OWvfe",
    "colab": {
     "base_uri": "https://localhost:8080/"
    },
    "executionInfo": {
     "status": "ok",
     "timestamp": 1703758034667,
     "user_tz": -60,
     "elapsed": 305,
     "user": {
      "displayName": "Aurora Bassani",
      "userId": "06626732176420281481"
     }
    },
    "outputId": "640e7f7d-6740-4ac4-e1d5-02e084f32526"
   },
   "outputs": [
    {
     "output_type": "stream",
     "name": "stdout",
     "text": [
      "The model was saved at the epoch number 36, with a corresponding validation loss of 0.076 and validation accuracy of 0.656.\n"
     ]
    }
   ],
   "source": [
    "best_epoch = np.where(val_loss == np.min(val_loss))[0][0]\n",
    "print(f'The model was saved at the epoch number {best_epoch}, with a corresponding validation loss of {round(val_loss[best_epoch],3)} and validation accuracy of {round(val_acc[best_epoch],3)}.')"
   ]
  },
  {
   "cell_type": "markdown",
   "metadata": {
    "id": "cxPnN3Opm0Ur"
   },
   "source": [
    "# Test"
   ]
  },
  {
   "cell_type": "markdown",
   "metadata": {
    "id": "rhZZKbdSVARh"
   },
   "source": [
    "In this last section we'll evaluate the performance of the *LSTM* on a test dataset.\\\n",
    "In particular we'll compute the overall accuracy considering different levels of patience."
   ]
  },
  {
   "cell_type": "code",
   "execution_count": 61,
   "metadata": {
    "colab": {
     "base_uri": "https://localhost:8080/"
    },
    "executionInfo": {
     "elapsed": 11156,
     "status": "ok",
     "timestamp": 1703758058235,
     "user": {
      "displayName": "Aurora Bassani",
      "userId": "06626732176420281481"
     },
     "user_tz": -60
    },
    "id": "pvyieYVknPSQ",
    "outputId": "260f09e0-cc09-4677-a8b2-2f2f6b3381dc"
   },
   "outputs": [
    {
     "output_type": "stream",
     "name": "stdout",
     "text": [
      "112/112 [==============================] - 6s 46ms/step\n"
     ]
    }
   ],
   "source": [
    "# Compute predictions\n",
    "predictions = best_model.predict([test_symbols, test_features]).argmax(axis=-1)"
   ]
  },
  {
   "cell_type": "code",
   "execution_count": 62,
   "metadata": {
    "executionInfo": {
     "elapsed": 219,
     "status": "ok",
     "timestamp": 1703758066306,
     "user": {
      "displayName": "Aurora Bassani",
      "userId": "06626732176420281481"
     },
     "user_tz": -60
    },
    "id": "QDZjKjDtGBQG"
   },
   "outputs": [],
   "source": [
    "# Number of correctly predicted sequences / number of sequences.\n",
    "# The argument \"sort\" is used only in the case of comparing sequences that have been shuffled\n",
    "# (only when we are checking the results of the YOLO fine tuning)\n",
    "\n",
    "def sequence_accuracy(preds, targets, patience = 0, sort = False):\n",
    "\n",
    "  N = preds.shape[0]\n",
    "  k = 0\n",
    "\n",
    "  for i in range(N):\n",
    "    pred = preds[i,:]\n",
    "    target = targets[i,:]\n",
    "\n",
    "    if sort:\n",
    "      pred = np.array(sorted(pred))\n",
    "      target = np.array(sorted(target))\n",
    "\n",
    "    if np.sum(pred == target) >= preds.shape[1] - patience :\n",
    "      k += 1\n",
    "  seq_accuracy = k / preds.shape[0]\n",
    "  return seq_accuracy\n",
    "\n",
    "# Applies \"sequence_accuracy\" on a range of patiences\n",
    "def sequence_accuracy_curve(preds, targets, sort = False, title = \"\",  max_patience = 30):\n",
    "  # Get accuracies\n",
    "  accuracies = [sequence_accuracy(preds, targets, patience = pad, sort = sort) for pad in range(max_patience)]\n",
    "\n",
    "  fig = plt.figure(figsize=(8, 6))\n",
    "  plt.plot(range(max_patience), accuracies, marker = 'o')\n",
    "  plt.xlabel(\"Patience\")\n",
    "  plt.ylabel(\"Accuracy\")\n",
    "  plt.ylim(0,1.1)\n",
    "  plt.title(title)\n",
    "  plt.xticks(range(max_patience), range(max_patience))\n",
    "  plt.grid(linestyle='--', alpha=0.5)\n",
    "  plt.show()\n",
    "\n",
    "  return accuracies"
   ]
  },
  {
   "cell_type": "code",
   "execution_count": 63,
   "metadata": {
    "colab": {
     "base_uri": "https://localhost:8080/",
     "height": 564
    },
    "executionInfo": {
     "elapsed": 1878,
     "status": "ok",
     "timestamp": 1703758071113,
     "user": {
      "displayName": "Aurora Bassani",
      "userId": "06626732176420281481"
     },
     "user_tz": -60
    },
    "id": "8YMrc9ypGBTJ",
    "outputId": "4b04f4b3-3fac-4990-b564-705ce5027306"
   },
   "outputs": [
    {
     "output_type": "display_data",
     "data": {
      "text/plain": [
       "<Figure size 800x600 with 1 Axes>"
      ],
      "image/png": "[encoded data removed]"
     },
     "metadata": {}
    }
   ],
   "source": [
    "accuracy_values = sequence_accuracy_curve(predictions, test_target, False, 'LSTM Accuracy Curve')"
   ]
  },
  {
   "cell_type": "code",
   "execution_count": 65,
   "metadata": {
    "id": "jfca2IZOX036",
    "colab": {
     "base_uri": "https://localhost:8080/"
    },
    "executionInfo": {
     "status": "ok",
     "timestamp": 1703758089351,
     "user_tz": -60,
     "elapsed": 216,
     "user": {
      "displayName": "Aurora Bassani",
      "userId": "06626732176420281481"
     }
    },
    "outputId": "731ae2ab-d3c6-4326-b3c6-ff533b7eea8f"
   },
   "outputs": [
    {
     "output_type": "stream",
     "name": "stdout",
     "text": [
      "On the test set we obtained an overall accuracy without patience of 0.66\n"
     ]
    }
   ],
   "source": [
    "print(f'On the test set we obtained an overall accuracy without patience of {round(accuracy_values[0],2)}')"
   ]
  }
 ],
 "metadata": {
  "accelerator": "GPU",
  "colab": {
   "provenance": [],
   "gpuType": "T4"
  },
  "kernelspec": {
   "display_name": "Python 3",
   "name": "python3"
  },
  "language_info": {
   "name": "python"
  }
 },
 "nbformat": 4,
 "nbformat_minor": 0
}
